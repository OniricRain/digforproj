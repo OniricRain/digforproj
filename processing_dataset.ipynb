{
 "cells": [
  {
   "cell_type": "code",
   "execution_count": 1,
   "metadata": {},
   "outputs": [],
   "source": [
    "%matplotlib inline\n",
    "import matplotlib.pyplot as plt\n",
    "import csv\n",
    "\n",
    "import numpy as np\n",
    "import scipy as sp\n",
    "import pandas as pd\n",
    "import sklearn as sl\n",
    "from scipy import stats\n",
    "from sklearn import datasets\n",
    "from sklearn import linear_model"
   ]
  },
  {
   "cell_type": "code",
   "execution_count": 2,
   "metadata": {},
   "outputs": [
    {
     "name": "stdout",
     "output_type": "stream",
     "text": [
      "['app', 'action', 'sequence', 'action_start', 'flow_number', 'IP_destination', 'IP_dest_resolved', 'port_source', 'port_destination', 'flow_length', 'flow_start', 'packets_length_total']\n"
     ]
    }
   ],
   "source": [
    "#load the dataset\n",
    "filename = 'apps_total_plus_filtered.csv'\n",
    "apps = csv.reader(open(filename, newline=''), delimiter=',')\n",
    "\n",
    "header = next(apps) #skip first line\n",
    "print(header)"
   ]
  },
  {
   "cell_type": "code",
   "execution_count": 51,
   "metadata": {},
   "outputs": [],
   "source": [
    "dataset = pd.read_csv(filename, usecols=header)\n",
    "\n",
    "appList = dataset.app.tolist()\n",
    "actionList = dataset.action.tolist()\n",
    "pktList = dataset.packets_length_total.tolist()\n",
    "\n",
    "import ast\n",
    "pktNum = []\n",
    "for i in range(0,len(pktList)):\n",
    "    temp = ast.literal_eval(pktList[i])\n",
    "    pktNum.append(temp)\n",
    "\n",
    "\n"
   ]
  },
  {
   "cell_type": "code",
   "execution_count": 60,
   "metadata": {},
   "outputs": [
    {
     "name": "stdout",
     "output_type": "stream",
     "text": [
      "252151\n",
      "[79, -185]\n",
      "<class 'int'>\n"
     ]
    }
   ],
   "source": [
    "print(len(pktNum))\n",
    "test = 0\n",
    "print(pktNum[test])\n",
    "np.mean(pktNum[test])\n",
    "print(type(pktNum[0][0]))\n",
    "\n"
   ]
  },
  {
   "cell_type": "code",
   "execution_count": null,
   "metadata": {},
   "outputs": [],
   "source": []
  }
 ],
 "metadata": {
  "kernelspec": {
   "display_name": "Python 3",
   "language": "python",
   "name": "python3"
  },
  "language_info": {
   "codemirror_mode": {
    "name": "ipython",
    "version": 3
   },
   "file_extension": ".py",
   "mimetype": "text/x-python",
   "name": "python",
   "nbconvert_exporter": "python",
   "pygments_lexer": "ipython3",
   "version": "3.7.6"
  }
 },
 "nbformat": 4,
 "nbformat_minor": 2
}
