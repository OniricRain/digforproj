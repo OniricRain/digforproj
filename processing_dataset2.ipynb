{
 "cells": [
  {
   "cell_type": "code",
   "execution_count": 1,
   "metadata": {},
   "outputs": [],
   "source": [
    "%matplotlib inline\n",
    "import matplotlib.pyplot as plt\n",
    "import csv\n",
    "import time\n",
    "import numpy as np\n",
    "import pandas as pd\n",
    "import scipy as sp\n",
    "import sklearn as sl\n",
    "from scipy import stats\n",
    "from sklearn import datasets\n",
    "from sklearn import linear_model"
   ]
  },
  {
   "cell_type": "code",
   "execution_count": 2,
   "metadata": {
    "tags": []
   },
   "outputs": [
    {
     "output_type": "stream",
     "name": "stdout",
     "text": "['app', 'action', 'sequence', 'action_start', 'flow_number', 'IP_destination', 'IP_dest_resolved', 'port_source', 'port_destination', 'flow_length', 'flow_start', 'packets_length_total']\n"
    }
   ],
   "source": [
    "#load the dataset\n",
    "filename = 'apps_total_plus_filtered.csv'\n",
    "apps = csv.reader(open(filename, newline=''), delimiter=',')\n",
    "\n",
    "header = next(apps) #skip first line\n",
    "print(header)"
   ]
  },
  {
   "cell_type": "code",
   "execution_count": 3,
   "metadata": {},
   "outputs": [],
   "source": [
    "dataset = pd.read_csv(filename, usecols=header)\n",
    "\n",
    "appList = dataset.app.tolist()\n",
    "actionList = dataset.action.tolist()\n",
    "pktList = dataset.packets_length_total.tolist()\n",
    "\n",
    "import ast\n",
    "pktNum = []\n",
    "for i in range(0,len(pktList)):\n",
    "    temp = ast.literal_eval(pktList[i])\n",
    "    pktNum.append(temp)\n"
   ]
  },
  {
   "cell_type": "code",
   "execution_count": 4,
   "metadata": {
    "tags": []
   },
   "outputs": [
    {
     "output_type": "stream",
     "name": "stdout",
     "text": "252151\n[79, -185]\n<class 'int'>\n"
    }
   ],
   "source": [
    "print(len(pktNum))\n",
    "test = 0\n",
    "print(pktNum[test])\n",
    "np.mean(pktNum[test])\n",
    "print(type(pktNum[0][0]))"
   ]
  },
  {
   "cell_type": "code",
   "execution_count": 5,
   "metadata": {
    "tags": []
   },
   "outputs": [
    {
     "output_type": "stream",
     "name": "stdout",
     "text": "[0 0 0 ... 6 6 6]\n(5,)\n[[  0. 132.  53.   0.  -2.]]\n1615.2046139240265\n"
    }
   ],
   "source": [
    "from scipy.stats import kurtosis\n",
    "from scipy.stats import skew\n",
    "\n",
    "\n",
    "labInt = pd.factorize(appList)\n",
    "print(labInt[0])\n",
    "\n",
    "features = np.array([labInt[0][0], np.mean(np.abs(pktNum[0])), np.std(np.abs(pktNum[0])),skew(np.abs(pktNum[0])),kurtosis(np.abs(pktNum[0]))])\n",
    "print(features.shape)\n",
    "features = np.reshape(features, (1,5))\n",
    "print(features)\n",
    "#print(features)\n",
    "#features = \n",
    "s = time.time()\n",
    "for i in range(1, len(pktNum)):\n",
    "    tmp = np.array([labInt[0][i], np.mean(np.abs(pktNum[i])), np.std(np.abs(pktNum[i])), skew(np.abs(pktNum[i])),kurtosis(np.abs(pktNum[i]))])\n",
    "    tmp = np.reshape(tmp, (1,5))\n",
    "    features = np.vstack((features, tmp))\n",
    "print(time.time()-s)\n",
    "    #print('dimensione feature array: ' + str(features.shape))\n"
   ]
  },
  {
   "cell_type": "code",
   "execution_count": 6,
   "metadata": {
    "tags": []
   },
   "outputs": [
    {
     "output_type": "stream",
     "name": "stdout",
     "text": "(252151, 5)\n"
    }
   ],
   "source": [
    "print(features.shape)\n"
   ]
  },
  {
   "cell_type": "code",
   "execution_count": 7,
   "metadata": {},
   "outputs": [],
   "source": [
    "np.savetxt(\"features4Moments.csv\", features, delimiter=\",\")\n",
    "        "
   ]
  },
  {
   "cell_type": "code",
   "execution_count": null,
   "metadata": {},
   "outputs": [],
   "source": []
  },
  {
   "cell_type": "code",
   "execution_count": null,
   "metadata": {},
   "outputs": [],
   "source": []
  },
  {
   "cell_type": "code",
   "execution_count": null,
   "metadata": {},
   "outputs": [],
   "source": []
  },
  {
   "cell_type": "code",
   "execution_count": null,
   "metadata": {},
   "outputs": [],
   "source": []
  }
 ],
 "metadata": {
  "kernelspec": {
   "display_name": "Python 3",
   "language": "python",
   "name": "python3"
  },
  "language_info": {
   "codemirror_mode": {
    "name": "ipython",
    "version": 3
   },
   "file_extension": ".py",
   "mimetype": "text/x-python",
   "name": "python",
   "nbconvert_exporter": "python",
   "pygments_lexer": "ipython3",
   "version": "3.7.6-final"
  }
 },
 "nbformat": 4,
 "nbformat_minor": 2
}